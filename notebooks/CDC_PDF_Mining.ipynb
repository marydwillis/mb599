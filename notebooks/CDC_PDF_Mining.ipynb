{
 "cells": [
  {
   "cell_type": "code",
   "execution_count": null,
   "metadata": {},
   "outputs": [],
   "source": [
    "import requests\n",
    "from SPARQLWrapper import SPARQLWrapper, JSON\n",
    "from pprint import pprint\n",
    "import io\n",
    "import re\n",
    "\n",
    "from pdfminer.pdfinterp import PDFResourceManager, PDFPageInterpreter\n",
    "from pdfminer.converter import TextConverter\n",
    "from pdfminer.layout import LAParams\n",
    "from pdfminer.pdfpage import PDFPage"
   ]
  },
  {
   "cell_type": "code",
   "execution_count": null,
   "metadata": {},
   "outputs": [],
   "source": [
    "# for entity recognition of compounds without cas numbers\n",
    "def link_compound2chebi(compound):\n",
    "    \"\"\"\n",
    "    used NCBO Annotator from BioPortal to return ChEBI IDS\n",
    "    for substrates and products of reactions from Expasy enzyme\n",
    "    \"\"\"\n",
    "    url = 'http://data.bioontology.org/annotator'\n",
    "    params = dict(apikey=api_key, text=compound, ontologies='CHEBI', longest_only='true',\n",
    "                  include='properties', exlude_numbers='false', exclude_synonyms='false', mappins='all')\n",
    "    tm_results = requests.get(url=url, params=params)\n",
    "    return tm_results.json()"
   ]
  },
  {
   "cell_type": "code",
   "execution_count": null,
   "metadata": {},
   "outputs": [],
   "source": [
    "def execute_query(query):\n",
    "    endpoint = SPARQLWrapper('https://query.wikidata.org/sparql')\n",
    "    endpoint.setQuery(query)\n",
    "    endpoint.setReturnFormat(JSON)\n",
    "    return endpoint.query().convert()\n",
    "\n",
    "# for mapping the cas number to chebi id using wikidata's sparql endpoint\n",
    "def map_cas_to_chebi_wd(cas_number):\n",
    "    query = '''\n",
    "    select ?compoundLabel ?compound ?chebi where {\n",
    "      ?compound wdt:P231 '%s';\n",
    "                wdt:P683 ?chebi.\n",
    "      SERVICE wikibase:label {\n",
    "            bd:serviceParam wikibase:language \"en\" .\n",
    "      }\n",
    "    }\n",
    "    ''' % (cas_number)\n",
    "    return execute_query(query)"
   ]
  },
  {
   "cell_type": "code",
   "execution_count": null,
   "metadata": {},
   "outputs": [],
   "source": [
    "# uses pdfminer2 to extract text from a pdf\n",
    "def convert_pdf_to_txt(path):\n",
    "    rsrcmgr = PDFResourceManager()\n",
    "    retstr = io.StringIO()\n",
    "    codec = 'utf-8'\n",
    "    laparams = LAParams()\n",
    "    device = TextConverter(rsrcmgr, retstr, codec=codec, laparams=laparams)\n",
    "    fp = open(path, 'rb')\n",
    "    interpreter = PDFPageInterpreter(rsrcmgr, device)\n",
    "    password = \"\"\n",
    "    maxpages = 0\n",
    "    caching = True\n",
    "    pagenos = set()\n",
    "\n",
    "    for page in PDFPage.get_pages(fp, pagenos, maxpages=maxpages,\n",
    "                                  password=password,\n",
    "                                  caching=caching,\n",
    "                                  check_extractable=True):\n",
    "        interpreter.process_page(page)\n",
    "\n",
    "    text = retstr.getvalue()\n",
    "\n",
    "    fp.close()\n",
    "    device.close()\n",
    "    retstr.close()\n",
    "    return text"
   ]
  },
  {
   "cell_type": "code",
   "execution_count": null,
   "metadata": {},
   "outputs": [],
   "source": [
    "# extract text to string from a \n",
    "document = convert_pdf_to_txt('data/toc_headings.pdf')"
   ]
  },
  {
   "cell_type": "code",
   "execution_count": null,
   "metadata": {},
   "outputs": [],
   "source": [
    "# start the parsing to filter out lines we don't care about\n",
    "lines = document.split('\\n')\n",
    "lines = [x for x in lines if x]\n",
    "lines = [x for x in lines if '_' not in x]\n",
    "lines = [x for x in lines if 'Updated Tables' not in x]\n",
    "lines = [x.lstrip('\\x0c') for x in lines if '(cid:' not in x]"
   ]
  },
  {
   "cell_type": "code",
   "execution_count": null,
   "metadata": {},
   "outputs": [],
   "source": [
    "# start the actual work\n",
    "for index, line in enumerate(lines):\n",
    "    if 'CAS' in line:\n",
    "        cas = line.split()[-1]\n",
    "        results = map_cas_to_chebi_wd(cas)['results']['bindings']\n",
    "        if len(results) == 1:\n",
    "            print(results[0]['compoundLabel']['value'], results[0]['chebi']['value'])\n",
    "        else:\n",
    "            print(cas, 'no wikidata mapping')\n",
    "#     if not line.startswith('CAS') and not re.search('^\\s*[0-9]', line):\n",
    "    "
   ]
  }
 ],
 "metadata": {
  "kernelspec": {
   "display_name": "Python 3",
   "language": "python",
   "name": "python3"
  },
  "language_info": {
   "codemirror_mode": {
    "name": "ipython",
    "version": 3
   },
   "file_extension": ".py",
   "mimetype": "text/x-python",
   "name": "python",
   "nbconvert_exporter": "python",
   "pygments_lexer": "ipython3",
   "version": "3.6.4"
  }
 },
 "nbformat": 4,
 "nbformat_minor": 2
}
