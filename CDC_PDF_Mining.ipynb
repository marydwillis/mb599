{
 "cells": [
  {
   "cell_type": "code",
   "execution_count": 28,
   "metadata": {},
   "outputs": [],
   "source": [
    "import requests\n",
    "import io\n",
    "import re\n",
    "\n",
    "from pdfminer.pdfinterp import PDFResourceManager, PDFPageInterpreter\n",
    "from pdfminer.converter import TextConverter\n",
    "from pdfminer.layout import LAParams\n",
    "from pdfminer.pdfpage import PDFPage"
   ]
  },
  {
   "cell_type": "code",
   "execution_count": 2,
   "metadata": {},
   "outputs": [],
   "source": [
    "def convert_pdf_to_txt(path):\n",
    "    rsrcmgr = PDFResourceManager()\n",
    "    retstr = io.StringIO()\n",
    "    codec = 'utf-8'\n",
    "    laparams = LAParams()\n",
    "    device = TextConverter(rsrcmgr, retstr, codec=codec, laparams=laparams)\n",
    "    fp = open(path, 'rb')\n",
    "    interpreter = PDFPageInterpreter(rsrcmgr, device)\n",
    "    password = \"\"\n",
    "    maxpages = 0\n",
    "    caching = True\n",
    "    pagenos = set()\n",
    "\n",
    "    for page in PDFPage.get_pages(fp, pagenos, maxpages=maxpages,\n",
    "                                  password=password,\n",
    "                                  caching=caching,\n",
    "                                  check_extractable=True):\n",
    "        interpreter.process_page(page)\n",
    "\n",
    "    text = retstr.getvalue()\n",
    "\n",
    "    fp.close()\n",
    "    device.close()\n",
    "    retstr.close()\n",
    "    return text"
   ]
  },
  {
   "cell_type": "code",
   "execution_count": 4,
   "metadata": {},
   "outputs": [],
   "source": [
    "document = convert_pdf_to_txt('data/toc_headings.pdf')"
   ]
  },
  {
   "cell_type": "code",
   "execution_count": 10,
   "metadata": {},
   "outputs": [],
   "source": [
    "lines = document.split('\\n')"
   ]
  },
  {
   "cell_type": "code",
   "execution_count": 13,
   "metadata": {},
   "outputs": [],
   "source": [
    "lines = [x for x in lines if x]"
   ]
  },
  {
   "cell_type": "code",
   "execution_count": 24,
   "metadata": {},
   "outputs": [],
   "source": [
    "lines = [x for x in lines if '_' not in x]\n",
    "lines = [x for x in lines if 'Updated Tables' not in x]\n",
    "lines = [x.lstrip('\\x0c') for x in lines if '(cid:' not in x]"
   ]
  },
  {
   "cell_type": "code",
   "execution_count": 40,
   "metadata": {},
   "outputs": [
    {
     "name": "stdout",
     "output_type": "stream",
     "text": [
      "Complete Table of Contents - Volumes One and Two\n",
      "Volume One\n",
      "General Information\n",
      "Adducts of Hemoglobin\n",
      "Tobacco Smoke\n",
      "Disinfection By-Products\n",
      "Personal Care and Consumer Product Chemicals and Metabolites\n",
      "Flame Retardant Metabolites\n",
      "Fungicides and Metabolites\n",
      "Herbicides and Metabolites\n",
      "Sulfonyl Urea Herbicides\n",
      "Insect Repellent and Metabolites\n",
      "Carbamate Pesticide Metabolites\n",
      "Organochlorine Pesticide Metabolites\n",
      "Organophosphorus Insecticides: Specific Metabolites\n",
      "Organophosphorus Insecticides: Dialkyl Phosphate Metabolites\n",
      "Pyrethroid Metabolites \n",
      "Metals and Metalloids\n",
      "Perchlorate and Other Anions\n",
      "Perfluoroalkyl and Polyfluoroalkyl Substances: Surfactants\n",
      "Phthalate and Phthalate Alternative Metabolites\n",
      "Phytoestrogens and Metabolites\n",
      "Polycyclic Aromatic Hydrocarbon Metabolites\n",
      "Heterocyclic Amines\n",
      "Volatile Organic Compounds (VOCs)\n",
      "Volatile Organic Compound (VOC) Metabolites\n",
      "Appendices\n",
      "Volume Two\n",
      "Special Analysis of Pooled Samples for Select Chemicals\n",
      "Organochlorine Pesticides and Metabolites (Pooled Samples after 2004)\n",
      "Polybrominated Diphenyl Ethers and PBB 153 (Pooled Samples after 2004)\n",
      "Polychlorinated Dibenzo-p-dioxins (Pooled Samples after 2004)\n",
      "Polychlorinated Dibenzofurans (Pooled Samples after 2004)\n",
      "Dioxin-like Polychlorinated Biphenyls: coplanar PCBs (Pooled Samples after 2004)\n",
      "Dioxin-like Polychlorinated Biphenyls: mono-ortho-substituted PCBs (Pooled Samples after 2004)\n",
      "Polychlorinated Biphenyls: Non-Dioxin-Like (Pooled Samples after 2004)\n",
      "Exposure to Chemicals Found in Cigarette Smoke in U.S. Adults\n",
      "Metals and Metalloids (Special Sample: Adult Smokers & Nonsmokers)\n",
      "Perchlorate and Other Anions (Special Sample: Adult Smokers & Nonsmokers)\n",
      "Polycyclic Aromatic Hydrocarbon Metabolites (Adult Cigarette Smokers & Nonsmokers: Special Sample)\n",
      "Heterocyclic Amines\n",
      "Volatile Organic Compounds (VOC)\n",
      "Volatile Organic Compound (VOC) Metabolites (Special Sample: Adult Smokers & Nonsmokers)\n",
      "\n"
     ]
    }
   ],
   "source": [
    "for index, line in enumerate(lines):\n",
    "    if not line.startswith('CAS') and not re.search('^\\s*[0-9]', line):\n",
    "        print(line)"
   ]
  },
  {
   "cell_type": "code",
   "execution_count": null,
   "metadata": {},
   "outputs": [],
   "source": []
  },
  {
   "cell_type": "code",
   "execution_count": null,
   "metadata": {},
   "outputs": [],
   "source": []
  }
 ],
 "metadata": {
  "kernelspec": {
   "display_name": "Python 3",
   "language": "python",
   "name": "python3"
  },
  "language_info": {
   "codemirror_mode": {
    "name": "ipython",
    "version": 3
   },
   "file_extension": ".py",
   "mimetype": "text/x-python",
   "name": "python",
   "nbconvert_exporter": "python",
   "pygments_lexer": "ipython3",
   "version": "3.6.4"
  }
 },
 "nbformat": 4,
 "nbformat_minor": 2
}
