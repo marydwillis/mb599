{
 "cells": [
  {
   "cell_type": "code",
   "execution_count": 65,
   "metadata": {},
   "outputs": [],
   "source": [
    "import io\n",
    "\n",
    "from pdfminer.pdfinterp import PDFResourceManager, PDFPageInterpreter\n",
    "from pdfminer.converter import TextConverter\n",
    "from pdfminer.layout import LAParams\n",
    "from pdfminer.pdfpage import PDFPage\n",
    "\n",
    "\n",
    "def convert_pdf_to_txt(path):\n",
    "    rsrcmgr = PDFResourceManager()\n",
    "    retstr = io.StringIO()\n",
    "    codec = 'utf-8'\n",
    "    laparams = LAParams()\n",
    "    device = TextConverter(rsrcmgr, retstr, codec=codec, laparams=laparams)\n",
    "    fp = open(path, 'rb')\n",
    "    interpreter = PDFPageInterpreter(rsrcmgr, device)\n",
    "    password = \"\"\n",
    "    maxpages = 0\n",
    "    caching = True\n",
    "    pagenos = set()\n",
    "\n",
    "    for page in PDFPage.get_pages(fp, pagenos, maxpages=maxpages,\n",
    "                                  password=password,\n",
    "                                  caching=caching,\n",
    "                                  check_extractable=True):\n",
    "        interpreter.process_page(page)\n",
    "\n",
    "    text = retstr.getvalue()\n",
    "\n",
    "    fp.close()\n",
    "    device.close()\n",
    "    retstr.close()\n",
    "    return text"
   ]
  },
  {
   "cell_type": "code",
   "execution_count": 66,
   "metadata": {},
   "outputs": [],
   "source": [
    "document = convert_pdf_to_txt('toc_headings.pdf')"
   ]
  },
  {
   "cell_type": "code",
   "execution_count": 67,
   "metadata": {},
   "outputs": [],
   "source": [
    "pages = document.split('Page')"
   ]
  },
  {
   "cell_type": "code",
   "execution_count": 68,
   "metadata": {},
   "outputs": [],
   "source": [
    "page1 = pages[0]"
   ]
  },
  {
   "cell_type": "code",
   "execution_count": 69,
   "metadata": {},
   "outputs": [
    {
     "name": "stdout",
     "output_type": "stream",
     "text": [
      "Complete Table of Contents - Volumes One and Two\n",
      "\n",
      "Volume One\n",
      "\n",
      "General Information\n",
      "\n",
      "1 Introduction and Public Health Uses\n",
      "4 What’s New and Different?\n",
      "6 Data Sources and Data Analysis\n",
      "12 Interpretation of Report and Updated Tables Data: Important Factors\n",
      "14 Calculation of Urinary Inorganic-related Arsenic Species\n",
      "15 Calculation of PFOS and PFOA as the Sum of the Isomers\n",
      "17 Chemical and Toxicological Information\n",
      "\n",
      "Adducts of Hemoglobin\n",
      "\n",
      "19 Acrylamide\n",
      "CAS No. 79-06-1\n",
      "20 Glycidamide\n",
      "CAS No. 486-56-6\n",
      "\n",
      "Tobacco Smoke\n",
      "21 Cotinine\n",
      "\n",
      "CAS No. 486-56-6\n",
      "\n",
      "24 Hydroxycotinine\n",
      "25 NNAL\n",
      "\n",
      "CAS No. 76014-81-8\n",
      "\n",
      "Disinfection By-Products\n",
      "\n",
      "29 Bromodichloromethane\n",
      "\n",
      "CAS No. 75-27-4\n",
      "\n",
      "31 Dibromochloromethane \n"
     ]
    }
   ],
   "source": [
    "for page in pages:\n",
    "    words = page.split('(')\n",
    "    print(words[0])"
   ]
  },
  {
   "cell_type": "code",
   "execution_count": null,
   "metadata": {},
   "outputs": [],
   "source": []
  },
  {
   "cell_type": "code",
   "execution_count": null,
   "metadata": {},
   "outputs": [],
   "source": []
  }
 ],
 "metadata": {
  "kernelspec": {
   "display_name": "Python 3",
   "language": "python",
   "name": "python3"
  },
  "language_info": {
   "codemirror_mode": {
    "name": "ipython",
    "version": 3
   },
   "file_extension": ".py",
   "mimetype": "text/x-python",
   "name": "python",
   "nbconvert_exporter": "python",
   "pygments_lexer": "ipython3",
   "version": "3.6.4"
  }
 },
 "nbformat": 4,
 "nbformat_minor": 2
}
